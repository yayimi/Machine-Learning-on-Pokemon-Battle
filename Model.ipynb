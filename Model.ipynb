{
 "cells": [
  {
   "cell_type": "code",
   "execution_count": null,
   "metadata": {},
   "outputs": [],
   "source": [
    "import pandas as pd\n",
    "import numpy as np\n",
    "from sklearn import preprocessing\n",
    "from sklearn.ensemble import RandomForestClassifier\n",
    "from sklearn.model_selection import cross_val_score, train_test_split\n",
    "import argparse"
   ]
  },
  {
   "cell_type": "code",
   "execution_count": null,
   "metadata": {},
   "outputs": [],
   "source": [
    "combats = pd.read_csv('combats.csv')\n",
    "pokemon = pd.read_csv('pokemon.csv')\n",
    "test = pd.read_csv('tests.csv')\n",
    "pokemon['Total'] = pokemon['HP'] + pokemon['Attack'] + pokemon['Defense'] + pokemon['Sp. Atk'] + pokemon['Sp. Def'] + pokemon['Speed']\n"
   ]
  },
  {
   "cell_type": "code",
   "execution_count": null,
   "metadata": {},
   "outputs": [],
   "source": [
    "x = pokemon.drop(['#','Name','Type 1','Type 2','Total','Generation','Legendary'], axis=1)\n",
    "y = pokemon['Type 1']\n",
    "z = pokemon['Generation']\n",
    "w = pokemon['Legendary']"
   ]
  },
  {
   "cell_type": "code",
   "execution_count": null,
   "metadata": {},
   "outputs": [],
   "source": [
    "x_train, __, y_train, __ = train_test_split(x, y, test_size=0.2)\n",
    "x_train, __, z_train, __ = train_test_split(x, z, test_size=0.2)\n",
    "x_train, __, w_train, __ = train_test_split(x, w, test_size=0.2)"
   ]
  },
  {
   "cell_type": "code",
   "execution_count": null,
   "metadata": {},
   "outputs": [],
   "source": [
    "clfy = RandomForestClassifier(min_impurity_split=0.1, n_jobs = -1, max_depth=15)\n",
    "clfz = RandomForestClassifier(min_impurity_split=0.1, n_jobs = -1, max_depth=15)\n",
    "clfw = RandomForestClassifier(min_impurity_split=0.1, n_jobs = -1, max_depth=15)\n",
    "\n",
    "scorey = cross_val_score(clfy, x, y, cv=5)\n",
    "scorez = cross_val_score(clfz, x, z, cv=12)\n",
    "scorew = cross_val_score(clfz, x, w, cv=15)\n",
    "\n",
    "clfy = clfy.fit(x,y)\n",
    "clfz = clfz.fit(x,z)\n",
    "clfw = clfw.fit(x,w)"
   ]
  },
  {
   "cell_type": "code",
   "execution_count": null,
   "metadata": {},
   "outputs": [],
   "source": [
    "temp = np.array(args)\n",
    "temp = temp.reshape(1,-1)\n",
    "\n",
    "\n",
    "pred_type = clfy.predict(temp)\n",
    "pred_gen = clfz.predict(temp)\n",
    "pred_leg = clfw.predict(temp)\n"
   ]
  }
 ],
 "metadata": {
  "kernelspec": {
   "display_name": "Python 3",
   "language": "python",
   "name": "python3"
  },
  "language_info": {
   "codemirror_mode": {
    "name": "ipython",
    "version": 3
   },
   "file_extension": ".py",
   "mimetype": "text/x-python",
   "name": "python",
   "nbconvert_exporter": "python",
   "pygments_lexer": "ipython3",
   "version": "3.6.6"
  }
 },
 "nbformat": 4,
 "nbformat_minor": 2
}
